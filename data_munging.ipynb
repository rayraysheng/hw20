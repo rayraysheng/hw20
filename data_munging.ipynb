{
 "cells": [
  {
   "cell_type": "code",
   "execution_count": 1,
   "metadata": {},
   "outputs": [],
   "source": [
    "import pandas as pd\n",
    "import os"
   ]
  },
  {
   "cell_type": "code",
   "execution_count": 2,
   "metadata": {},
   "outputs": [],
   "source": [
    "# Read each file, standardize column names, concat into one df\n",
    "dfs_list = []\n",
    "\n",
    "for filename in os.listdir('data/'):\n",
    "    dataframe = pd.read_csv(f'data/{filename}')\n",
    "    \n",
    "    try:\n",
    "        dataframe.rename(columns={\n",
    "            'tripduration': 'Trip Duration',\n",
    "            'starttime': 'Start Time',\n",
    "            'stoptime': 'Stop Time',\n",
    "            'start station id': 'Start Station ID',\n",
    "            'start station name': 'Start Station Name',\n",
    "            'start station latitude': 'Start Station Latitude',\n",
    "            'start station longitude': 'Start Station Longitude',\n",
    "            'end station id': 'End Station ID',\n",
    "            'end station name': 'End Station Name',\n",
    "            'end station latitude': 'End Station Latitude',\n",
    "            'end station longitude': 'End Station Longitude',\n",
    "            'bikeid': 'Bike ID',\n",
    "            'usertype': 'User Type',\n",
    "            'gender': 'Gender',\n",
    "            'birth year': 'Birth Year'\n",
    "        }, inplace=True)\n",
    "    except:\n",
    "        print(filename)\n",
    "        \n",
    "    dfs_list.append(dataframe)\n",
    "    \n",
    "all_df = pd.concat(dfs_list)"
   ]
  },
  {
   "cell_type": "code",
   "execution_count": 4,
   "metadata": {
    "scrolled": false
   },
   "outputs": [],
   "source": [
    "# Use this to convert gender from numeric to string\n",
    "def decode_gender(number):\n",
    "    \n",
    "    gender_str = 'unknown'\n",
    "    if number == 1:\n",
    "        gender_str = 'male'\n",
    "    elif number == 2:\n",
    "        gender_str = 'female'\n",
    "    \n",
    "    return gender_str"
   ]
  },
  {
   "cell_type": "code",
   "execution_count": 9,
   "metadata": {},
   "outputs": [],
   "source": [
    "# Convert gender column to string format\n",
    "gender_list = [decode_gender(number) for number in list(all_df['Gender'])]\n",
    "all_df['Gender'] = gender_list"
   ]
  },
  {
   "cell_type": "code",
   "execution_count": 12,
   "metadata": {},
   "outputs": [],
   "source": [
    "all_df.to_csv('data/2017_all_year.csv', index=False, header=True)"
   ]
  },
  {
   "cell_type": "code",
   "execution_count": null,
   "metadata": {},
   "outputs": [],
   "source": []
  }
 ],
 "metadata": {
  "kernelspec": {
   "display_name": "Python 3",
   "language": "python",
   "name": "python3"
  },
  "language_info": {
   "codemirror_mode": {
    "name": "ipython",
    "version": 3
   },
   "file_extension": ".py",
   "mimetype": "text/x-python",
   "name": "python",
   "nbconvert_exporter": "python",
   "pygments_lexer": "ipython3",
   "version": "3.6.4"
  }
 },
 "nbformat": 4,
 "nbformat_minor": 2
}
